{
 "cells": [
  {
   "cell_type": "markdown",
   "id": "logical-procedure",
   "metadata": {},
   "source": [
    "# Hoja de Trabajo 2\n",
    "### Kevin Munoz\n",
    "### 21004324"
   ]
  },
  {
   "cell_type": "markdown",
   "id": "based-idaho",
   "metadata": {},
   "source": [
    "1. Programacion y sintaxis"
   ]
  },
  {
   "cell_type": "markdown",
   "id": "incomplete-rebate",
   "metadata": {},
   "source": [
    "* 1.1"
   ]
  },
  {
   "cell_type": "code",
   "execution_count": null,
   "id": "radical-library",
   "metadata": {},
   "outputs": [],
   "source": [
    "def seconds2time():\n",
    "    try:\n",
    "        sec = int(input(\"Ingrese cantidad de segundos a convertir: \"))\n",
    "    except:\n",
    "        print('Error en dato de entrada')\n",
    "        return\n",
    "    hours = 0\n",
    "    minutes = 0\n",
    "    while sec // 3600 >= 1:\n",
    "        hours += 1\n",
    "        sec = sec - 3600\n",
    "    while sec // 60 >= 1:\n",
    "        minutes += 1\n",
    "        sec = sec - 60\n",
    "    print(\"Horas:\", hours, \", Minutos:\", minutes, \", Segundo:\", sec)"
   ]
  },
  {
   "cell_type": "code",
   "execution_count": null,
   "id": "talented-oracle",
   "metadata": {},
   "outputs": [],
   "source": [
    "seconds2time()"
   ]
  },
  {
   "cell_type": "markdown",
   "id": "alpine-functionality",
   "metadata": {},
   "source": [
    "* 1.2"
   ]
  },
  {
   "cell_type": "code",
   "execution_count": 10,
   "id": "graduate-dodge",
   "metadata": {},
   "outputs": [],
   "source": [
    "def symbol_pattern():\n",
    "    char_to_repeat = input(\"Ingrese caracter: \")\n",
    "    try:\n",
    "        times_to_repeat = int(input(\"Ingrese veces a repetir: \"))\n",
    "    except:\n",
    "        print('Error en dato de entrada')\n",
    "        return\n",
    "    if times_to_repeat == 0 or times_to_repeat>20:\n",
    "        print('Cantidad de repeticiones debe estar entre 1 y 20')\n",
    "        return\n",
    "    if len(char_to_repeat.strip()) == 0:\n",
    "        print(\"Debe ingresar al menos un caracter\")\n",
    "        return\n",
    "    elif len(char_to_repeat.strip()) > 1:\n",
    "        print(\"Se ingreso mas de un caracter, se tomara el primer caracter\")\n",
    "        char_to_repeat = char_to_repeat.strip()[0:1]\n",
    "    triangle1(char_to_repeat, times_to_repeat)\n",
    "\n",
    "\n",
    "def triangle1(char,times):\n",
    "    blank_space = ' '\n",
    "    for x in range(1, times+1):\n",
    "        print(char * x, blank_space * times, char * (times+1-x), blank_space * 2, char * (times+1-x), blank_space * times, char * x)\n"
   ]
  },
  {
   "cell_type": "code",
   "execution_count": 11,
   "id": "suited-contest",
   "metadata": {},
   "outputs": [
    {
     "name": "stdin",
     "output_type": "stream",
     "text": [
      "Ingrese caracter:  123\n",
      "Ingrese veces a repetir:  2\n"
     ]
    },
    {
     "name": "stdout",
     "output_type": "stream",
     "text": [
      "Se ingreso mas de un caracter, se tomara el primer caracter\n",
      "1    11    11    1\n",
      "11    1    1    11\n"
     ]
    }
   ],
   "source": [
    "symbol_pattern()"
   ]
  },
  {
   "cell_type": "markdown",
   "id": "photographic-portugal",
   "metadata": {},
   "source": [
    "* 1.3"
   ]
  },
  {
   "cell_type": "code",
   "execution_count": 12,
   "id": "acoustic-investor",
   "metadata": {},
   "outputs": [],
   "source": [
    "import datetime\n",
    "def time_alive():\n",
    "    try:\n",
    "        day = int(input(\"Ingrese dia de nacimiento: \"))\n",
    "    except:\n",
    "        print('Error en dato de entrada')\n",
    "        return\n",
    "\n",
    "    try:\n",
    "        month = int(input(\"Ingrese mes de nacimiento: \"))\n",
    "    except:\n",
    "        print('Error en dato de entrada')\n",
    "        return\n",
    "\n",
    "    try:\n",
    "        year = int(input(\"Ingrese ano de nacimiento: \"))\n",
    "    except:\n",
    "        print('Error en dato de entrada')\n",
    "        return\n",
    "    try:\n",
    "        date_birthday = datetime.datetime(year,month,day)\n",
    "    except:\n",
    "        print('Fecha Invalida')\n",
    "        return\n",
    "    date_today = datetime.datetime.now()\n",
    "    if (date_birthday>date_today):\n",
    "        print(\"La fecha de nacimiento no puede ser mayor a hoy\")\n",
    "        return\n",
    "    difference_seconds = int((date_today-date_birthday).total_seconds())\n",
    "    seconds2timed(difference_seconds)\n",
    "\n",
    "def seconds2timed(sec):\n",
    "    years = 0\n",
    "    days = 0\n",
    "    while sec // 31536000 >= 1:\n",
    "        years += 1\n",
    "        sec = sec - 31536000\n",
    "    while sec // 86400 >= 1:\n",
    "        days += 1\n",
    "        sec = sec - 86400\n",
    "    print(\"Anios:\", years, \", Dias:\", days)"
   ]
  },
  {
   "cell_type": "code",
   "execution_count": 13,
   "id": "pregnant-torture",
   "metadata": {},
   "outputs": [
    {
     "name": "stdin",
     "output_type": "stream",
     "text": [
      "Ingrese dia de nacimiento:  10\n",
      "Ingrese mes de nacimiento:  02\n",
      "Ingrese ano de nacimiento:  1997\n"
     ]
    },
    {
     "name": "stdout",
     "output_type": "stream",
     "text": [
      "Anios: 24 , Dias: 9\n"
     ]
    }
   ],
   "source": [
    "time_alive()"
   ]
  },
  {
   "cell_type": "markdown",
   "id": "front-bread",
   "metadata": {},
   "source": [
    "2. Estructuras de Datos"
   ]
  },
  {
   "cell_type": "markdown",
   "id": "ceramic-waste",
   "metadata": {},
   "source": [
    "* 2.1"
   ]
  },
  {
   "cell_type": "code",
   "execution_count": 1,
   "id": "clean-glasgow",
   "metadata": {},
   "outputs": [],
   "source": [
    "def tuple2string(tuple):\n",
    "    print(''.join(map(str,tuple)))"
   ]
  },
  {
   "cell_type": "code",
   "execution_count": 2,
   "id": "african-violin",
   "metadata": {},
   "outputs": [
    {
     "name": "stdout",
     "output_type": "stream",
     "text": [
      "12345A\n"
     ]
    }
   ],
   "source": [
    "new_tuple = (1,2,3,4,5,'A')\n",
    "tuple2string(new_tuple)"
   ]
  },
  {
   "cell_type": "markdown",
   "id": "configured-snowboard",
   "metadata": {},
   "source": [
    "* 2.2"
   ]
  },
  {
   "cell_type": "code",
   "execution_count": 14,
   "id": "endless-species",
   "metadata": {},
   "outputs": [],
   "source": [
    "def non_empty_tuple(list_of_tuples):\n",
    "    print(list_of_tuples)\n",
    "    print(list(filter(None, list_of_tuples)))"
   ]
  },
  {
   "cell_type": "code",
   "execution_count": 15,
   "id": "basic-active",
   "metadata": {},
   "outputs": [
    {
     "name": "stdout",
     "output_type": "stream",
     "text": [
      "[('A', 'B'), (), ('C',)]\n",
      "[('A', 'B'), ('C',)]\n"
     ]
    }
   ],
   "source": [
    "new_list=[('A','B'),(),('C',)]\n",
    "non_empty_tuple(new_list)"
   ]
  },
  {
   "cell_type": "markdown",
   "id": "gorgeous-finding",
   "metadata": {},
   "source": [
    "* 2.3"
   ]
  },
  {
   "cell_type": "code",
   "execution_count": 10,
   "id": "assured-disposition",
   "metadata": {},
   "outputs": [],
   "source": [
    "def tuple_average(list_of_tuples):\n",
    "    avg_list = []\n",
    "    for tup in list_of_tuples:\n",
    "        avg = 0\n",
    "        total = 0\n",
    "        for elem in tup:\n",
    "            total = total + elem\n",
    "        avg = total/len(tup)\n",
    "        avg_list.append(avg)\n",
    "    print(tuple(avg_list))"
   ]
  },
  {
   "cell_type": "code",
   "execution_count": 12,
   "id": "burning-richardson",
   "metadata": {},
   "outputs": [
    {
     "name": "stdout",
     "output_type": "stream",
     "text": [
      "(1.0, 505.0, 4.666666666666667)\n"
     ]
    }
   ],
   "source": [
    "new_list=((1,1,1),(10,1000),(2,2,10))\n",
    "tuple_average(new_list)"
   ]
  },
  {
   "cell_type": "code",
   "execution_count": null,
   "id": "rubber-discrimination",
   "metadata": {},
   "outputs": [],
   "source": []
  }
 ],
 "metadata": {
  "kernelspec": {
   "display_name": "Python 3",
   "language": "python",
   "name": "python3"
  },
  "language_info": {
   "codemirror_mode": {
    "name": "ipython",
    "version": 3
   },
   "file_extension": ".py",
   "mimetype": "text/x-python",
   "name": "python",
   "nbconvert_exporter": "python",
   "pygments_lexer": "ipython3",
   "version": "3.9.1"
  }
 },
 "nbformat": 4,
 "nbformat_minor": 5
}
