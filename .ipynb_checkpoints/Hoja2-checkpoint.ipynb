{
 "cells": [
  {
   "cell_type": "markdown",
   "id": "passing-diabetes",
   "metadata": {},
   "source": [
    "# Hoja de Trabajo 2\n",
    "### Kevin Munoz\n",
    "### 21004324"
   ]
  },
  {
   "cell_type": "markdown",
   "id": "primary-theorem",
   "metadata": {},
   "source": [
    "1. Programacion y sintaxis"
   ]
  },
  {
   "cell_type": "markdown",
   "id": "republican-gazette",
   "metadata": {},
   "source": [
    "* 1.1"
   ]
  },
  {
   "cell_type": "code",
   "execution_count": null,
   "id": "fleet-adrian",
   "metadata": {},
   "outputs": [],
   "source": [
    "def seconds2time():\n",
    "    try:\n",
    "        sec = int(input(\"Ingrese cantidad de segundos a convertir: \"))\n",
    "    except:\n",
    "        print('Error en dato de entrada')\n",
    "        return\n",
    "    hours = 0\n",
    "    minutes = 0\n",
    "    while sec // 3600 >= 1:\n",
    "        hours += 1\n",
    "        sec = sec - 3600\n",
    "    while sec // 60 >= 1:\n",
    "        minutes += 1\n",
    "        sec = sec - 60\n",
    "    print(\"Horas:\", hours, \", Minutos:\", minutes, \", Segundo:\", sec)"
   ]
  },
  {
   "cell_type": "code",
   "execution_count": null,
   "id": "laughing-string",
   "metadata": {},
   "outputs": [],
   "source": [
    "seconds2time()"
   ]
  },
  {
   "cell_type": "markdown",
   "id": "creative-biology",
   "metadata": {},
   "source": [
    "* 2.2"
   ]
  },
  {
   "cell_type": "code",
   "execution_count": 10,
   "id": "convertible-civilization",
   "metadata": {},
   "outputs": [],
   "source": [
    "def symbol_pattern():\n",
    "    char_to_repeat = input(\"Ingrese caracter: \")\n",
    "    try:\n",
    "        times_to_repeat = int(input(\"Ingrese veces a repetir: \"))\n",
    "    except:\n",
    "        print('Error en dato de entrada')\n",
    "        return\n",
    "    if times_to_repeat == 0 or times_to_repeat>20:\n",
    "        print('Cantidad de repeticiones debe estar entre 1 y 20')\n",
    "        return\n",
    "    if len(char_to_repeat.strip()) == 0:\n",
    "        print(\"Debe ingresar al menos un caracter\")\n",
    "        return\n",
    "    elif len(char_to_repeat.strip()) > 1:\n",
    "        print(\"Se ingreso mas de un caracter, se tomara el primer caracter\")\n",
    "        char_to_repeat = char_to_repeat.strip()[0:1]\n",
    "    triangle1(char_to_repeat, times_to_repeat)\n",
    "\n",
    "\n",
    "def triangle1(char,times):\n",
    "    blank_space = ' '\n",
    "    for x in range(1, times+1):\n",
    "        print(char * x, blank_space * times, char * (times+1-x), blank_space * 2, char * (times+1-x), blank_space * times, char * x)\n"
   ]
  },
  {
   "cell_type": "code",
   "execution_count": 11,
   "id": "strange-curve",
   "metadata": {},
   "outputs": [
    {
     "name": "stdin",
     "output_type": "stream",
     "text": [
      "Ingrese caracter:  123\n",
      "Ingrese veces a repetir:  2\n"
     ]
    },
    {
     "name": "stdout",
     "output_type": "stream",
     "text": [
      "Se ingreso mas de un caracter, se tomara el primer caracter\n",
      "1    11    11    1\n",
      "11    1    1    11\n"
     ]
    }
   ],
   "source": [
    "symbol_pattern()"
   ]
  },
  {
   "cell_type": "code",
   "execution_count": null,
   "id": "pending-cleveland",
   "metadata": {},
   "outputs": [],
   "source": []
  },
  {
   "cell_type": "code",
   "execution_count": null,
   "id": "employed-worship",
   "metadata": {},
   "outputs": [],
   "source": []
  },
  {
   "cell_type": "code",
   "execution_count": null,
   "id": "empty-hundred",
   "metadata": {},
   "outputs": [],
   "source": []
  }
 ],
 "metadata": {
  "kernelspec": {
   "display_name": "Python 3",
   "language": "python",
   "name": "python3"
  },
  "language_info": {
   "codemirror_mode": {
    "name": "ipython",
    "version": 3
   },
   "file_extension": ".py",
   "mimetype": "text/x-python",
   "name": "python",
   "nbconvert_exporter": "python",
   "pygments_lexer": "ipython3",
   "version": "3.9.1"
  }
 },
 "nbformat": 4,
 "nbformat_minor": 5
}
